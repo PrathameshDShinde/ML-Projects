{
 "cells": [
  {
   "cell_type": "code",
   "execution_count": 157,
   "id": "1794fe4b",
   "metadata": {},
   "outputs": [],
   "source": [
    "#### Importing Liabraries\n",
    "import pandas as pd\n",
    "import datetime\n",
    "import timer\n",
    "import numpy as np\n",
    "import matplotlib.pyplot as plt\n",
    "import seaborn as sns\n",
    "from sklearn.model_selection import train_test_split\n",
    "from sklearn.linear_model import LinearRegression,Lasso,Ridge,LogisticRegression\n",
    "from sklearn.metrics import r2_score,confusion_matrix,precision_score,accuracy_score"
   ]
  },
  {
   "cell_type": "code",
   "execution_count": 158,
   "id": "843576ab",
   "metadata": {},
   "outputs": [],
   "source": [
    "#### Getting the data\n",
    "def read_data():\n",
    "    data = pd.read_csv(\"C:/Data Science/Dec 2023/5 dec 2023/Assignments/Health Insurance Prediction/Health Insurance Prediction/train.csv\")\n",
    "    return data"
   ]
  },
  {
   "cell_type": "code",
   "execution_count": 159,
   "id": "2fd043fc",
   "metadata": {},
   "outputs": [
    {
     "name": "stdout",
     "output_type": "stream",
     "text": [
      "   id  Gender  Age  Driving_License  Region_Code  Previously_Insured  \\\n",
      "0   1    Male   44                1         28.0                   0   \n",
      "1   2    Male   76                1          3.0                   0   \n",
      "2   3    Male   47                1         28.0                   0   \n",
      "3   4    Male   21                1         11.0                   1   \n",
      "4   5  Female   29                1         41.0                   1   \n",
      "\n",
      "  Vehicle_Age Vehicle_Damage  Annual_Premium  Policy_Sales_Channel  Vintage  \\\n",
      "0   > 2 Years            Yes         40454.0                  26.0      217   \n",
      "1    1-2 Year             No         33536.0                  26.0      183   \n",
      "2   > 2 Years            Yes         38294.0                  26.0       27   \n",
      "3    < 1 Year             No         28619.0                 152.0      203   \n",
      "4    < 1 Year             No         27496.0                 152.0       39   \n",
      "\n",
      "   Response  \n",
      "0         1  \n",
      "1         0  \n",
      "2         1  \n",
      "3         0  \n",
      "4         0  \n"
     ]
    }
   ],
   "source": [
    "#### Calling the read data function\n",
    "df = read_data()\n",
    "print(df.head())"
   ]
  },
  {
   "cell_type": "code",
   "execution_count": 209,
   "id": "0e260d73",
   "metadata": {},
   "outputs": [
    {
     "data": {
      "text/plain": [
       "0    334399\n",
       "1     46710\n",
       "Name: Response, dtype: int64"
      ]
     },
     "execution_count": 209,
     "metadata": {},
     "output_type": "execute_result"
    }
   ],
   "source": [
    "df['Response'].value_counts()"
   ]
  },
  {
   "cell_type": "code",
   "execution_count": 160,
   "id": "fe55f26b",
   "metadata": {},
   "outputs": [
    {
     "name": "stdout",
     "output_type": "stream",
     "text": [
      "   id  Gender  Age  Driving_License  Region_Code  Previously_Insured  \\\n",
      "0   1    Male   44                1         28.0                   0   \n",
      "1   2    Male   76                1          3.0                   0   \n",
      "2   3    Male   47                1         28.0                   0   \n",
      "3   4    Male   21                1         11.0                   1   \n",
      "4   5  Female   29                1         41.0                   1   \n",
      "\n",
      "  Vehicle_Age Vehicle_Damage  Annual_Premium  Policy_Sales_Channel  Vintage  \\\n",
      "0   > 2 Years            Yes         40454.0                  26.0      217   \n",
      "1    1-2 Year             No         33536.0                  26.0      183   \n",
      "2   > 2 Years            Yes         38294.0                  26.0       27   \n",
      "3    < 1 Year             No         28619.0                 152.0      203   \n",
      "4    < 1 Year             No         27496.0                 152.0       39   \n",
      "\n",
      "   Response  \n",
      "0         1  \n",
      "1         0  \n",
      "2         1  \n",
      "3         0  \n",
      "4         0  \n",
      "<class 'pandas.core.frame.DataFrame'>\n",
      "RangeIndex: 381109 entries, 0 to 381108\n",
      "Data columns (total 12 columns):\n",
      " #   Column                Non-Null Count   Dtype  \n",
      "---  ------                --------------   -----  \n",
      " 0   id                    381109 non-null  int64  \n",
      " 1   Gender                381109 non-null  object \n",
      " 2   Age                   381109 non-null  int64  \n",
      " 3   Driving_License       381109 non-null  int64  \n",
      " 4   Region_Code           381109 non-null  float64\n",
      " 5   Previously_Insured    381109 non-null  int64  \n",
      " 6   Vehicle_Age           381109 non-null  object \n",
      " 7   Vehicle_Damage        381109 non-null  object \n",
      " 8   Annual_Premium        381109 non-null  float64\n",
      " 9   Policy_Sales_Channel  381109 non-null  float64\n",
      " 10  Vintage               381109 non-null  int64  \n",
      " 11  Response              381109 non-null  int64  \n",
      "dtypes: float64(3), int64(6), object(3)\n",
      "memory usage: 34.9+ MB\n",
      "None\n",
      "(381109, 12)\n"
     ]
    }
   ],
   "source": [
    "#### preprocessing and feature engineering\n",
    "df1 = df.copy()\n",
    "print(df1.head())\n",
    "print(df1.info())\n",
    "print(df1.shape)"
   ]
  },
  {
   "cell_type": "code",
   "execution_count": 161,
   "id": "9b5c9933",
   "metadata": {},
   "outputs": [
    {
     "data": {
      "text/plain": [
       "Index(['id', 'Gender', 'Age', 'Driving_License', 'Region_Code',\n",
       "       'Previously_Insured', 'Vehicle_Age', 'Vehicle_Damage', 'Annual_Premium',\n",
       "       'Policy_Sales_Channel', 'Vintage', 'Response'],\n",
       "      dtype='object')"
      ]
     },
     "execution_count": 161,
     "metadata": {},
     "output_type": "execute_result"
    }
   ],
   "source": [
    "df1.columns"
   ]
  },
  {
   "cell_type": "code",
   "execution_count": 162,
   "id": "b6643e26",
   "metadata": {},
   "outputs": [
    {
     "data": {
      "text/plain": [
       "Male      206089\n",
       "Female    175020\n",
       "Name: Gender, dtype: int64"
      ]
     },
     "execution_count": 162,
     "metadata": {},
     "output_type": "execute_result"
    }
   ],
   "source": [
    "df1['Gender'].value_counts()"
   ]
  },
  {
   "cell_type": "code",
   "execution_count": 163,
   "id": "62ebbab7",
   "metadata": {},
   "outputs": [],
   "source": [
    "# c = []\n",
    "# for i in ['Gender', 'Age', 'Driving_License', 'Region_Code',\n",
    "#        'Previously_Insured', 'Vehicle_Age', 'Vehicle_Damage', 'Annual_Premium',\n",
    "#        'Policy_Sales_Channel', 'Vintage', 'Response']:\n",
    "#     count = df[i].value_counts()\n",
    "#     print(count)\n",
    "    \n",
    "    "
   ]
  },
  {
   "cell_type": "code",
   "execution_count": 164,
   "id": "3f8f83b6",
   "metadata": {},
   "outputs": [
    {
     "data": {
      "text/plain": [
       "id                      0\n",
       "Gender                  0\n",
       "Age                     0\n",
       "Driving_License         0\n",
       "Region_Code             0\n",
       "Previously_Insured      0\n",
       "Vehicle_Age             0\n",
       "Vehicle_Damage          0\n",
       "Annual_Premium          0\n",
       "Policy_Sales_Channel    0\n",
       "Vintage                 0\n",
       "Response                0\n",
       "dtype: int64"
      ]
     },
     "execution_count": 164,
     "metadata": {},
     "output_type": "execute_result"
    }
   ],
   "source": [
    "df1.isna().sum()"
   ]
  },
  {
   "cell_type": "code",
   "execution_count": 165,
   "id": "7be58b4b",
   "metadata": {},
   "outputs": [
    {
     "name": "stdout",
     "output_type": "stream",
     "text": [
      "            id  Age  Driving_License  Region_Code  Previously_Insured  \\\n",
      "0            1   44                1         28.0                   0   \n",
      "1            2   76                1          3.0                   0   \n",
      "2            3   47                1         28.0                   0   \n",
      "3            4   21                1         11.0                   1   \n",
      "4            5   29                1         41.0                   1   \n",
      "...        ...  ...              ...          ...                 ...   \n",
      "381104  381105   74                1         26.0                   1   \n",
      "381105  381106   30                1         37.0                   1   \n",
      "381106  381107   21                1         30.0                   1   \n",
      "381107  381108   68                1         14.0                   0   \n",
      "381108  381109   46                1         29.0                   0   \n",
      "\n",
      "        Annual_Premium  Policy_Sales_Channel  Vintage  Response  \n",
      "0              40454.0                  26.0      217         1  \n",
      "1              33536.0                  26.0      183         0  \n",
      "2              38294.0                  26.0       27         1  \n",
      "3              28619.0                 152.0      203         0  \n",
      "4              27496.0                 152.0       39         0  \n",
      "...                ...                   ...      ...       ...  \n",
      "381104         30170.0                  26.0       88         0  \n",
      "381105         40016.0                 152.0      131         0  \n",
      "381106         35118.0                 160.0      161         0  \n",
      "381107         44617.0                 124.0       74         0  \n",
      "381108         41777.0                  26.0      237         0  \n",
      "\n",
      "[381109 rows x 9 columns]\n"
     ]
    }
   ],
   "source": [
    "print(df1.select_dtypes(include='number'))"
   ]
  },
  {
   "cell_type": "code",
   "execution_count": 166,
   "id": "c7f2e8dc",
   "metadata": {},
   "outputs": [
    {
     "name": "stdout",
     "output_type": "stream",
     "text": [
      "        Gender Vehicle_Age Vehicle_Damage\n",
      "0         Male   > 2 Years            Yes\n",
      "1         Male    1-2 Year             No\n",
      "2         Male   > 2 Years            Yes\n",
      "3         Male    < 1 Year             No\n",
      "4       Female    < 1 Year             No\n",
      "...        ...         ...            ...\n",
      "381104    Male    1-2 Year             No\n",
      "381105    Male    < 1 Year             No\n",
      "381106    Male    < 1 Year             No\n",
      "381107  Female   > 2 Years            Yes\n",
      "381108    Male    1-2 Year             No\n",
      "\n",
      "[381109 rows x 3 columns]\n"
     ]
    }
   ],
   "source": [
    "print(df1.select_dtypes(include='object'))"
   ]
  },
  {
   "cell_type": "code",
   "execution_count": 167,
   "id": "a17a375a",
   "metadata": {},
   "outputs": [
    {
     "data": {
      "text/html": [
       "<div>\n",
       "<style scoped>\n",
       "    .dataframe tbody tr th:only-of-type {\n",
       "        vertical-align: middle;\n",
       "    }\n",
       "\n",
       "    .dataframe tbody tr th {\n",
       "        vertical-align: top;\n",
       "    }\n",
       "\n",
       "    .dataframe thead th {\n",
       "        text-align: right;\n",
       "    }\n",
       "</style>\n",
       "<table border=\"1\" class=\"dataframe\">\n",
       "  <thead>\n",
       "    <tr style=\"text-align: right;\">\n",
       "      <th></th>\n",
       "      <th>id</th>\n",
       "      <th>Age</th>\n",
       "      <th>Driving_License</th>\n",
       "      <th>Region_Code</th>\n",
       "      <th>Previously_Insured</th>\n",
       "      <th>Annual_Premium</th>\n",
       "      <th>Policy_Sales_Channel</th>\n",
       "      <th>Vintage</th>\n",
       "      <th>Response</th>\n",
       "    </tr>\n",
       "  </thead>\n",
       "  <tbody>\n",
       "    <tr>\n",
       "      <th>count</th>\n",
       "      <td>381109.000000</td>\n",
       "      <td>381109.000000</td>\n",
       "      <td>381109.000000</td>\n",
       "      <td>381109.000000</td>\n",
       "      <td>381109.000000</td>\n",
       "      <td>381109.000000</td>\n",
       "      <td>381109.000000</td>\n",
       "      <td>381109.000000</td>\n",
       "      <td>381109.000000</td>\n",
       "    </tr>\n",
       "    <tr>\n",
       "      <th>mean</th>\n",
       "      <td>190555.000000</td>\n",
       "      <td>38.822584</td>\n",
       "      <td>0.997869</td>\n",
       "      <td>26.388807</td>\n",
       "      <td>0.458210</td>\n",
       "      <td>30564.389581</td>\n",
       "      <td>112.034295</td>\n",
       "      <td>154.347397</td>\n",
       "      <td>0.122563</td>\n",
       "    </tr>\n",
       "    <tr>\n",
       "      <th>std</th>\n",
       "      <td>110016.836208</td>\n",
       "      <td>15.511611</td>\n",
       "      <td>0.046110</td>\n",
       "      <td>13.229888</td>\n",
       "      <td>0.498251</td>\n",
       "      <td>17213.155057</td>\n",
       "      <td>54.203995</td>\n",
       "      <td>83.671304</td>\n",
       "      <td>0.327936</td>\n",
       "    </tr>\n",
       "    <tr>\n",
       "      <th>min</th>\n",
       "      <td>1.000000</td>\n",
       "      <td>20.000000</td>\n",
       "      <td>0.000000</td>\n",
       "      <td>0.000000</td>\n",
       "      <td>0.000000</td>\n",
       "      <td>2630.000000</td>\n",
       "      <td>1.000000</td>\n",
       "      <td>10.000000</td>\n",
       "      <td>0.000000</td>\n",
       "    </tr>\n",
       "    <tr>\n",
       "      <th>25%</th>\n",
       "      <td>95278.000000</td>\n",
       "      <td>25.000000</td>\n",
       "      <td>1.000000</td>\n",
       "      <td>15.000000</td>\n",
       "      <td>0.000000</td>\n",
       "      <td>24405.000000</td>\n",
       "      <td>29.000000</td>\n",
       "      <td>82.000000</td>\n",
       "      <td>0.000000</td>\n",
       "    </tr>\n",
       "    <tr>\n",
       "      <th>50%</th>\n",
       "      <td>190555.000000</td>\n",
       "      <td>36.000000</td>\n",
       "      <td>1.000000</td>\n",
       "      <td>28.000000</td>\n",
       "      <td>0.000000</td>\n",
       "      <td>31669.000000</td>\n",
       "      <td>133.000000</td>\n",
       "      <td>154.000000</td>\n",
       "      <td>0.000000</td>\n",
       "    </tr>\n",
       "    <tr>\n",
       "      <th>75%</th>\n",
       "      <td>285832.000000</td>\n",
       "      <td>49.000000</td>\n",
       "      <td>1.000000</td>\n",
       "      <td>35.000000</td>\n",
       "      <td>1.000000</td>\n",
       "      <td>39400.000000</td>\n",
       "      <td>152.000000</td>\n",
       "      <td>227.000000</td>\n",
       "      <td>0.000000</td>\n",
       "    </tr>\n",
       "    <tr>\n",
       "      <th>max</th>\n",
       "      <td>381109.000000</td>\n",
       "      <td>85.000000</td>\n",
       "      <td>1.000000</td>\n",
       "      <td>52.000000</td>\n",
       "      <td>1.000000</td>\n",
       "      <td>540165.000000</td>\n",
       "      <td>163.000000</td>\n",
       "      <td>299.000000</td>\n",
       "      <td>1.000000</td>\n",
       "    </tr>\n",
       "  </tbody>\n",
       "</table>\n",
       "</div>"
      ],
      "text/plain": [
       "                  id            Age  Driving_License    Region_Code  \\\n",
       "count  381109.000000  381109.000000    381109.000000  381109.000000   \n",
       "mean   190555.000000      38.822584         0.997869      26.388807   \n",
       "std    110016.836208      15.511611         0.046110      13.229888   \n",
       "min         1.000000      20.000000         0.000000       0.000000   \n",
       "25%     95278.000000      25.000000         1.000000      15.000000   \n",
       "50%    190555.000000      36.000000         1.000000      28.000000   \n",
       "75%    285832.000000      49.000000         1.000000      35.000000   \n",
       "max    381109.000000      85.000000         1.000000      52.000000   \n",
       "\n",
       "       Previously_Insured  Annual_Premium  Policy_Sales_Channel  \\\n",
       "count       381109.000000   381109.000000         381109.000000   \n",
       "mean             0.458210    30564.389581            112.034295   \n",
       "std              0.498251    17213.155057             54.203995   \n",
       "min              0.000000     2630.000000              1.000000   \n",
       "25%              0.000000    24405.000000             29.000000   \n",
       "50%              0.000000    31669.000000            133.000000   \n",
       "75%              1.000000    39400.000000            152.000000   \n",
       "max              1.000000   540165.000000            163.000000   \n",
       "\n",
       "             Vintage       Response  \n",
       "count  381109.000000  381109.000000  \n",
       "mean      154.347397       0.122563  \n",
       "std        83.671304       0.327936  \n",
       "min        10.000000       0.000000  \n",
       "25%        82.000000       0.000000  \n",
       "50%       154.000000       0.000000  \n",
       "75%       227.000000       0.000000  \n",
       "max       299.000000       1.000000  "
      ]
     },
     "execution_count": 167,
     "metadata": {},
     "output_type": "execute_result"
    }
   ],
   "source": [
    "df1.describe()"
   ]
  },
  {
   "cell_type": "code",
   "execution_count": 168,
   "id": "a10a4f4c",
   "metadata": {},
   "outputs": [
    {
     "data": {
      "text/plain": [
       "Index(['id', 'Age', 'Driving_License', 'Region_Code', 'Previously_Insured',\n",
       "       'Annual_Premium', 'Policy_Sales_Channel', 'Vintage', 'Response'],\n",
       "      dtype='object')"
      ]
     },
     "execution_count": 168,
     "metadata": {},
     "output_type": "execute_result"
    }
   ],
   "source": [
    "df1.select_dtypes(include='number').columns"
   ]
  },
  {
   "cell_type": "code",
   "execution_count": 169,
   "id": "3c7a21a9",
   "metadata": {},
   "outputs": [
    {
     "data": {
      "image/png": "[encoded data removed]",
      "text/plain": [
       "<Figure size 640x480 with 1 Axes>"
      ]
     },
     "metadata": {},
     "output_type": "display_data"
    },
    {
     "data": {
      "image/png": "[encoded data removed]",
      "text/plain": [
       "<Figure size 640x480 with 1 Axes>"
      ]
     },
     "metadata": {},
     "output_type": "display_data"
    },
    {
     "data": {
      "image/png": "[encoded data removed]",
      "text/plain": [
       "<Figure size 640x480 with 1 Axes>"
      ]
     },
     "metadata": {},
     "output_type": "display_data"
    },
    {
     "data": {
      "image/png": "[encoded data removed]",
      "text/plain": [
       "<Figure size 640x480 with 1 Axes>"
      ]
     },
     "metadata": {},
     "output_type": "display_data"
    },
    {
     "data": {
      "image/png": "[encoded data removed]",
      "text/plain": [
       "<Figure size 640x480 with 1 Axes>"
      ]
     },
     "metadata": {},
     "output_type": "display_data"
    },
    {
     "data": {
      "image/png": "[encoded data removed]",
      "text/plain": [
       "<Figure size 640x480 with 1 Axes>"
      ]
     },
     "metadata": {},
     "output_type": "display_data"
    },
    {
     "data": {
      "image/png": "[encoded data removed]",
      "text/plain": [
       "<Figure size 640x480 with 1 Axes>"
      ]
     },
     "metadata": {},
     "output_type": "display_data"
    },
    {
     "data": {
      "image/png": "[encoded data removed]",
      "text/plain": [
       "<Figure size 640x480 with 1 Axes>"
      ]
     },
     "metadata": {},
     "output_type": "display_data"
    },
    {
     "data": {
      "image/png": "[encoded data removed]",
      "text/plain": [
       "<Figure size 640x480 with 1 Axes>"
      ]
     },
     "metadata": {},
     "output_type": "display_data"
    }
   ],
   "source": [
    "for i in ['id', 'Age', 'Driving_License', 'Region_Code', 'Previously_Insured',\n",
    "       'Annual_Premium', 'Policy_Sales_Channel', 'Vintage', 'Response']:\n",
    "    sns.boxplot(data = df1,x = i)\n",
    "    plt.show()"
   ]
  },
  {
   "cell_type": "code",
   "execution_count": 170,
   "id": "66eb78a6",
   "metadata": {},
   "outputs": [
    {
     "data": {
      "text/plain": [
       "id                      380331\n",
       "Gender                  380331\n",
       "Age                     380331\n",
       "Driving_License         380331\n",
       "Region_Code             380331\n",
       "Previously_Insured      380331\n",
       "Vehicle_Age             380331\n",
       "Vehicle_Damage          380331\n",
       "Annual_Premium          380331\n",
       "Policy_Sales_Channel    380331\n",
       "Vintage                 380331\n",
       "Response                380331\n",
       "dtype: int64"
      ]
     },
     "execution_count": 170,
     "metadata": {},
     "output_type": "execute_result"
    }
   ],
   "source": [
    "df1[df1['Annual_Premium']<100000].count()"
   ]
  },
  {
   "cell_type": "code",
   "execution_count": 171,
   "id": "bfe3e572",
   "metadata": {},
   "outputs": [],
   "source": [
    "col = ['id', 'Age', 'Driving_License', 'Region_Code', 'Previously_Insured',\n",
    "       'Annual_Premium', 'Policy_Sales_Channel', 'Vintage', 'Response']"
   ]
  },
  {
   "cell_type": "code",
   "execution_count": 172,
   "id": "126f847b",
   "metadata": {},
   "outputs": [],
   "source": [
    "def wisker(col):\n",
    "    Q1,Q3 = np.percentile(col,[25,75])\n",
    "    IQR = Q3 - Q1\n",
    "    lower = Q1 - 1.5 * IQR\n",
    "    upper = Q1 + 1.5 * IQR\n",
    "    return lower,upper"
   ]
  },
  {
   "cell_type": "code",
   "execution_count": 173,
   "id": "dc620198",
   "metadata": {},
   "outputs": [],
   "source": [
    "for i in col:\n",
    "    lower,upper = wisker(df1[i])\n",
    "    df1[i] = np.where(df1[i]<lower,lower,df1[i])\n",
    "    df1[i] = np.where(df1[i]>upper,upper,df1[i])"
   ]
  },
  {
   "cell_type": "code",
   "execution_count": 174,
   "id": "57ea73a1",
   "metadata": {},
   "outputs": [
    {
     "data": {
      "image/png": "[encoded data removed]",
      "text/plain": [
       "<Figure size 640x480 with 1 Axes>"
      ]
     },
     "metadata": {},
     "output_type": "display_data"
    },
    {
     "data": {
      "image/png": "[encoded data removed]",
      "text/plain": [
       "<Figure size 640x480 with 1 Axes>"
      ]
     },
     "metadata": {},
     "output_type": "display_data"
    },
    {
     "data": {
      "image/png": "[encoded data removed]",
      "text/plain": [
       "<Figure size 640x480 with 1 Axes>"
      ]
     },
     "metadata": {},
     "output_type": "display_data"
    },
    {
     "data": {
      "image/png": "[encoded data removed]",
      "text/plain": [
       "<Figure size 640x480 with 1 Axes>"
      ]
     },
     "metadata": {},
     "output_type": "display_data"
    },
    {
     "data": {
      "image/png": "[encoded data removed]",
      "text/plain": [
       "<Figure size 640x480 with 1 Axes>"
      ]
     },
     "metadata": {},
     "output_type": "display_data"
    },
    {
     "data": {
      "image/png": "[encoded data removed]",
      "text/plain": [
       "<Figure size 640x480 with 1 Axes>"
      ]
     },
     "metadata": {},
     "output_type": "display_data"
    },
    {
     "data": {
      "image/png": "[encoded data removed]",
      "text/plain": [
       "<Figure size 640x480 with 1 Axes>"
      ]
     },
     "metadata": {},
     "output_type": "display_data"
    },
    {
     "data": {
      "image/png": "[encoded data removed]",
      "text/plain": [
       "<Figure size 640x480 with 1 Axes>"
      ]
     },
     "metadata": {},
     "output_type": "display_data"
    },
    {
     "data": {
      "image/png": "[encoded data removed]",
      "text/plain": [
       "<Figure size 640x480 with 1 Axes>"
      ]
     },
     "metadata": {},
     "output_type": "display_data"
    }
   ],
   "source": [
    "for i in ['id', 'Age', 'Driving_License', 'Region_Code', 'Previously_Insured',\n",
    "       'Annual_Premium', 'Policy_Sales_Channel', 'Vintage', 'Response']:\n",
    "    sns.boxplot(data = df1,x = i)\n",
    "    plt.show()"
   ]
  },
  {
   "cell_type": "code",
   "execution_count": 175,
   "id": "8645df9e",
   "metadata": {},
   "outputs": [
    {
     "data": {
      "text/plain": [
       "Index(['id', 'Age', 'Driving_License', 'Region_Code', 'Previously_Insured',\n",
       "       'Annual_Premium', 'Policy_Sales_Channel', 'Vintage', 'Response'],\n",
       "      dtype='object')"
      ]
     },
     "execution_count": 175,
     "metadata": {},
     "output_type": "execute_result"
    }
   ],
   "source": [
    "col = df1.select_dtypes(include = 'number').columns\n",
    "col"
   ]
  },
  {
   "cell_type": "code",
   "execution_count": 176,
   "id": "9d10d6f3",
   "metadata": {},
   "outputs": [],
   "source": [
    "# col = ['Age', 'Driving_License', 'Region_Code', 'Previously_Insured',\n",
    "#        'Annual_Premium', 'Policy_Sales_Channel', 'Vintage', 'Response']\n",
    "# plt.figure(figsize=(15,4))\n",
    "# for i in col:\n",
    "#     sns.displot(data = df1,x = cols,kde=True)\n",
    "# plt.show()"
   ]
  },
  {
   "cell_type": "code",
   "execution_count": 177,
   "id": "06a98db3",
   "metadata": {},
   "outputs": [
    {
     "data": {
      "text/plain": [
       "Index(['Gender', 'Vehicle_Age', 'Vehicle_Damage'], dtype='object')"
      ]
     },
     "execution_count": 177,
     "metadata": {},
     "output_type": "execute_result"
    }
   ],
   "source": [
    "col1 = df1.select_dtypes(include = 'object').columns\n",
    "col1"
   ]
  },
  {
   "cell_type": "code",
   "execution_count": 178,
   "id": "0b83f463",
   "metadata": {},
   "outputs": [],
   "source": [
    "# plt.figure(figsize=(12,8))\n",
    "# for i,cols in enumerate(col1,1):\n",
    "#     plt.subplot(2,2,i)\n",
    "#     sns.histplot(data = df1,x = cols)\n",
    "    \n",
    "# plt.tight_layout()    \n",
    "# plt.show()"
   ]
  },
  {
   "cell_type": "code",
   "execution_count": 179,
   "id": "60e2a07b",
   "metadata": {},
   "outputs": [
    {
     "data": {
      "text/plain": [
       "Index(['id', 'Gender', 'Age', 'Driving_License', 'Region_Code',\n",
       "       'Previously_Insured', 'Vehicle_Age', 'Vehicle_Damage', 'Annual_Premium',\n",
       "       'Policy_Sales_Channel', 'Vintage', 'Response'],\n",
       "      dtype='object')"
      ]
     },
     "execution_count": 179,
     "metadata": {},
     "output_type": "execute_result"
    }
   ],
   "source": [
    "df1.columns"
   ]
  },
  {
   "cell_type": "code",
   "execution_count": 180,
   "id": "81f7b673",
   "metadata": {},
   "outputs": [],
   "source": [
    "# df1 = pd.get_dummies(df1,drop_first=True)"
   ]
  },
  {
   "cell_type": "code",
   "execution_count": 181,
   "id": "fbf4f761",
   "metadata": {},
   "outputs": [
    {
     "data": {
      "text/plain": [
       "Index(['Gender', 'Vehicle_Age', 'Vehicle_Damage'], dtype='object')"
      ]
     },
     "execution_count": 181,
     "metadata": {},
     "output_type": "execute_result"
    }
   ],
   "source": [
    "df1.select_dtypes(include='object').columns"
   ]
  },
  {
   "cell_type": "code",
   "execution_count": 182,
   "id": "e9316947",
   "metadata": {},
   "outputs": [
    {
     "data": {
      "text/plain": [
       "Yes    192413\n",
       "No     188696\n",
       "Name: Vehicle_Damage, dtype: int64"
      ]
     },
     "execution_count": 182,
     "metadata": {},
     "output_type": "execute_result"
    }
   ],
   "source": [
    "df1['Vehicle_Damage'].value_counts()"
   ]
  },
  {
   "cell_type": "code",
   "execution_count": 183,
   "id": "534f89e2",
   "metadata": {},
   "outputs": [],
   "source": [
    "df1['Gender'] = df1['Gender'].replace(('Male','Female'),(1,0))"
   ]
  },
  {
   "cell_type": "code",
   "execution_count": 184,
   "id": "847aa216",
   "metadata": {},
   "outputs": [],
   "source": [
    "df1['Vehicle_Age'] = df1['Vehicle_Age'].replace(('1-2 Year','< 1 Year','> 2 Years'),(0,1,2))"
   ]
  },
  {
   "cell_type": "code",
   "execution_count": 185,
   "id": "195840c2",
   "metadata": {},
   "outputs": [],
   "source": [
    "df1['Vehicle_Damage'] = df1['Vehicle_Damage'].replace(('Yes','No'),(1,0))"
   ]
  },
  {
   "cell_type": "code",
   "execution_count": 186,
   "id": "fdd72d32",
   "metadata": {},
   "outputs": [
    {
     "data": {
      "text/plain": [
       "Index(['id', 'Gender', 'Age', 'Driving_License', 'Region_Code',\n",
       "       'Previously_Insured', 'Vehicle_Age', 'Vehicle_Damage', 'Annual_Premium',\n",
       "       'Policy_Sales_Channel', 'Vintage', 'Response'],\n",
       "      dtype='object')"
      ]
     },
     "execution_count": 186,
     "metadata": {},
     "output_type": "execute_result"
    }
   ],
   "source": [
    "df1.columns"
   ]
  },
  {
   "cell_type": "code",
   "execution_count": 218,
   "id": "7a70a198",
   "metadata": {},
   "outputs": [],
   "source": [
    "X = df1[['id', 'Gender', 'Age', 'Driving_License', 'Region_Code',\n",
    "       'Previously_Insured', 'Vehicle_Age', 'Vehicle_Damage', 'Annual_Premium',\n",
    "       'Policy_Sales_Channel', 'Vintage']]\n",
    "y = df['Response']"
   ]
  },
  {
   "cell_type": "code",
   "execution_count": 219,
   "id": "b6281d25",
   "metadata": {},
   "outputs": [],
   "source": [
    "X_train,X_test,y_train,y_test = train_test_split(X,y,test_size=0.15,random_state=1234)"
   ]
  },
  {
   "cell_type": "code",
   "execution_count": 220,
   "id": "b82a93f4",
   "metadata": {},
   "outputs": [
    {
     "data": {
      "text/plain": [
       "array([-0.02091191, -0.00774361, -0.01281245, ...,  0.23299592,\n",
       "        0.17476814, -0.0118877 ])"
      ]
     },
     "execution_count": 220,
     "metadata": {},
     "output_type": "execute_result"
    }
   ],
   "source": [
    "model = LinearRegression()\n",
    "model_fit = model.fit(X_train,y_train)\n",
    "pred = model_fit.predict(X_test)\n",
    "pred"
   ]
  },
  {
   "cell_type": "code",
   "execution_count": 229,
   "id": "2cf2a713",
   "metadata": {},
   "outputs": [
    {
     "data": {
      "text/html": [
       "<div>\n",
       "<style scoped>\n",
       "    .dataframe tbody tr th:only-of-type {\n",
       "        vertical-align: middle;\n",
       "    }\n",
       "\n",
       "    .dataframe tbody tr th {\n",
       "        vertical-align: top;\n",
       "    }\n",
       "\n",
       "    .dataframe thead th {\n",
       "        text-align: right;\n",
       "    }\n",
       "</style>\n",
       "<table border=\"1\" class=\"dataframe\">\n",
       "  <thead>\n",
       "    <tr style=\"text-align: right;\">\n",
       "      <th></th>\n",
       "      <th>Actual_value</th>\n",
       "      <th>Predicted_value</th>\n",
       "      <th>Differance</th>\n",
       "    </tr>\n",
       "  </thead>\n",
       "  <tbody>\n",
       "    <tr>\n",
       "      <th>327037</th>\n",
       "      <td>0</td>\n",
       "      <td>-0.020912</td>\n",
       "      <td>0.020912</td>\n",
       "    </tr>\n",
       "    <tr>\n",
       "      <th>38186</th>\n",
       "      <td>0</td>\n",
       "      <td>-0.007744</td>\n",
       "      <td>0.007744</td>\n",
       "    </tr>\n",
       "    <tr>\n",
       "      <th>80193</th>\n",
       "      <td>0</td>\n",
       "      <td>-0.012812</td>\n",
       "      <td>0.012812</td>\n",
       "    </tr>\n",
       "    <tr>\n",
       "      <th>15054</th>\n",
       "      <td>0</td>\n",
       "      <td>0.033507</td>\n",
       "      <td>-0.033507</td>\n",
       "    </tr>\n",
       "    <tr>\n",
       "      <th>282127</th>\n",
       "      <td>0</td>\n",
       "      <td>0.009853</td>\n",
       "      <td>-0.009853</td>\n",
       "    </tr>\n",
       "    <tr>\n",
       "      <th>...</th>\n",
       "      <td>...</td>\n",
       "      <td>...</td>\n",
       "      <td>...</td>\n",
       "    </tr>\n",
       "    <tr>\n",
       "      <th>27525</th>\n",
       "      <td>0</td>\n",
       "      <td>-0.024161</td>\n",
       "      <td>0.024161</td>\n",
       "    </tr>\n",
       "    <tr>\n",
       "      <th>347344</th>\n",
       "      <td>0</td>\n",
       "      <td>-0.018821</td>\n",
       "      <td>0.018821</td>\n",
       "    </tr>\n",
       "    <tr>\n",
       "      <th>250182</th>\n",
       "      <td>0</td>\n",
       "      <td>0.232996</td>\n",
       "      <td>-0.232996</td>\n",
       "    </tr>\n",
       "    <tr>\n",
       "      <th>223851</th>\n",
       "      <td>0</td>\n",
       "      <td>0.174768</td>\n",
       "      <td>-0.174768</td>\n",
       "    </tr>\n",
       "    <tr>\n",
       "      <th>215308</th>\n",
       "      <td>0</td>\n",
       "      <td>-0.011888</td>\n",
       "      <td>0.011888</td>\n",
       "    </tr>\n",
       "  </tbody>\n",
       "</table>\n",
       "<p>57167 rows × 3 columns</p>\n",
       "</div>"
      ],
      "text/plain": [
       "        Actual_value  Predicted_value  Differance\n",
       "327037             0        -0.020912    0.020912\n",
       "38186              0        -0.007744    0.007744\n",
       "80193              0        -0.012812    0.012812\n",
       "15054              0         0.033507   -0.033507\n",
       "282127             0         0.009853   -0.009853\n",
       "...              ...              ...         ...\n",
       "27525              0        -0.024161    0.024161\n",
       "347344             0        -0.018821    0.018821\n",
       "250182             0         0.232996   -0.232996\n",
       "223851             0         0.174768   -0.174768\n",
       "215308             0        -0.011888    0.011888\n",
       "\n",
       "[57167 rows x 3 columns]"
      ]
     },
     "execution_count": 229,
     "metadata": {},
     "output_type": "execute_result"
    }
   ],
   "source": [
    "df_pred = pd.DataFrame({'Actual_value':y_test,'Predicted_value':pred,'Differance':y_test-pred})\n",
    "df_pred"
   ]
  },
  {
   "cell_type": "code",
   "execution_count": 226,
   "id": "526acdbe",
   "metadata": {},
   "outputs": [],
   "source": [
    "# df_pred['Actual'] = y_test.values"
   ]
  },
  {
   "cell_type": "code",
   "execution_count": 228,
   "id": "e25c7b48",
   "metadata": {},
   "outputs": [
    {
     "name": "stdout",
     "output_type": "stream",
     "text": [
      "The Strength of the model is - 0.13814013731177022\n"
     ]
    }
   ],
   "source": [
    "print(\"The Strength of the model is -\",r2_score(df_pred['Actual_value'],df_pred['Predicted_value']))"
   ]
  },
  {
   "cell_type": "code",
   "execution_count": 193,
   "id": "2a54bd36",
   "metadata": {},
   "outputs": [
    {
     "data": {
      "text/plain": [
       "0.13814013731177022"
      ]
     },
     "execution_count": 193,
     "metadata": {},
     "output_type": "execute_result"
    }
   ],
   "source": [
    "r2_score(y_test,pred)"
   ]
  },
  {
   "cell_type": "code",
   "execution_count": 194,
   "id": "835a2336",
   "metadata": {},
   "outputs": [
    {
     "data": {
      "text/plain": [
       "Index(['id', 'Gender', 'Age', 'Driving_License', 'Region_Code',\n",
       "       'Previously_Insured', 'Vehicle_Age', 'Vehicle_Damage', 'Annual_Premium',\n",
       "       'Policy_Sales_Channel', 'Vintage', 'Response'],\n",
       "      dtype='object')"
      ]
     },
     "execution_count": 194,
     "metadata": {},
     "output_type": "execute_result"
    }
   ],
   "source": [
    "df1.select_dtypes(include='number').columns"
   ]
  },
  {
   "cell_type": "code",
   "execution_count": 195,
   "id": "aedc1087",
   "metadata": {},
   "outputs": [],
   "source": [
    "# for i in ['id', 'Age', 'Driving_License', 'Region_Code', 'Previously_Insured',\n",
    "#        'Annual_Premium', 'Policy_Sales_Channel', 'Vintage',\n",
    "#        'Gender_Male', 'Vehicle_Age_< 1 Year', 'Vehicle_Age_> 2 Years',\n",
    "#        'Vehicle_Damage_Yes']:\n",
    "#     sns.regplot(data = df1,x = i,y = 'Response')\n",
    "#     plt.show()"
   ]
  },
  {
   "cell_type": "code",
   "execution_count": 196,
   "id": "f6586cfd",
   "metadata": {},
   "outputs": [
    {
     "data": {
      "text/plain": [
       "<Axes: xlabel='Age', ylabel='Response'>"
      ]
     },
     "execution_count": 196,
     "metadata": {},
     "output_type": "execute_result"
    },
    {
     "data": {
      "image/png": "[encoded data removed]",
      "text/plain": [
       "<Figure size 640x480 with 1 Axes>"
      ]
     },
     "metadata": {},
     "output_type": "display_data"
    }
   ],
   "source": [
    "sns.regplot(data = df1,x = 'Age',y = 'Response')"
   ]
  },
  {
   "cell_type": "code",
   "execution_count": 197,
   "id": "5a1c3c90",
   "metadata": {},
   "outputs": [
    {
     "data": {
      "text/plain": [
       "<Axes: xlabel='Age', ylabel='Response'>"
      ]
     },
     "execution_count": 197,
     "metadata": {},
     "output_type": "execute_result"
    },
    {
     "data": {
      "image/png": "[encoded data removed]",
      "text/plain": [
       "<Figure size 640x480 with 1 Axes>"
      ]
     },
     "metadata": {},
     "output_type": "display_data"
    }
   ],
   "source": [
    "sns.lineplot(data = df1,x = 'Age',y = 'Response')"
   ]
  },
  {
   "cell_type": "code",
   "execution_count": 198,
   "id": "8d84d041",
   "metadata": {},
   "outputs": [
    {
     "name": "stdout",
     "output_type": "stream",
     "text": [
      "The Accurancy Score: 0.8775320773529952\n"
     ]
    },
    {
     "name": "stderr",
     "output_type": "stream",
     "text": [
      "C:\\ProgramData\\anaconda3\\Lib\\site-packages\\sklearn\\metrics\\_classification.py:1469: UndefinedMetricWarning: Precision is ill-defined and being set to 0.0 due to no predicted samples. Use `zero_division` parameter to control this behavior.\n",
      "  _warn_prf(average, modifier, msg_start, len(result))\n"
     ]
    },
    {
     "name": "stdout",
     "output_type": "stream",
     "text": [
      "The Precision Score 0.0\n"
     ]
    },
    {
     "name": "stderr",
     "output_type": "stream",
     "text": [
      "C:\\ProgramData\\anaconda3\\Lib\\site-packages\\sklearn\\metrics\\_classification.py:1469: UndefinedMetricWarning: Precision and F-score are ill-defined and being set to 0.0 in labels with no predicted samples. Use `zero_division` parameter to control this behavior.\n",
      "  _warn_prf(average, modifier, msg_start, len(result))\n",
      "C:\\ProgramData\\anaconda3\\Lib\\site-packages\\sklearn\\metrics\\_classification.py:1469: UndefinedMetricWarning: Precision and F-score are ill-defined and being set to 0.0 in labels with no predicted samples. Use `zero_division` parameter to control this behavior.\n",
      "  _warn_prf(average, modifier, msg_start, len(result))\n",
      "C:\\ProgramData\\anaconda3\\Lib\\site-packages\\sklearn\\metrics\\_classification.py:1469: UndefinedMetricWarning: Precision and F-score are ill-defined and being set to 0.0 in labels with no predicted samples. Use `zero_division` parameter to control this behavior.\n",
      "  _warn_prf(average, modifier, msg_start, len(result))\n"
     ]
    },
    {
     "data": {
      "text/plain": [
       "'              precision    recall  f1-score   support\\n\\n           0       0.88      1.00      0.93    267549\\n           1       0.00      0.00      0.00     37339\\n\\n    accuracy                           0.88    304888\\n   macro avg       0.44      0.50      0.47    304888\\nweighted avg       0.77      0.88      0.82    304888\\n'"
      ]
     },
     "execution_count": 198,
     "metadata": {},
     "output_type": "execute_result"
    }
   ],
   "source": [
    "X = df1[['id', 'Gender', 'Age', 'Driving_License', 'Region_Code',\n",
    "       'Previously_Insured', 'Vehicle_Age', 'Vehicle_Damage', 'Annual_Premium',\n",
    "       'Policy_Sales_Channel', 'Vintage']]\n",
    "y = df['Response']\n",
    "from sklearn.model_selection import train_test_split\n",
    "X_train,X_test,y_train,y_test = train_test_split(X,y,train_size=0.2,random_state=1234)\n",
    "from sklearn.linear_model import LogisticRegression\n",
    "from math import sqrt\n",
    "\n",
    "sqrt(df.shape[0])\n",
    "\n",
    "clf1 = LogisticRegression()\n",
    "\n",
    "clf1.fit(X_train,y_train)\n",
    "pred3 = clf1.predict(X_test)\n",
    "pred3\n",
    "from sklearn.metrics import accuracy_score,precision_score,confusion_matrix,classification_report\n",
    "print(\"The Accurancy Score:\",accuracy_score(y_test,pred3))\n",
    "print(\"The Precision Score\",precision_score(y_test,pred3))\n",
    "confusion_matrix(y_test,pred3)\n",
    "classification_report(y_test,pred3)"
   ]
  },
  {
   "cell_type": "code",
   "execution_count": 199,
   "id": "8c8609cb",
   "metadata": {},
   "outputs": [
    {
     "data": {
      "text/plain": [
       "0    334399\n",
       "1     46710\n",
       "Name: Response, dtype: int64"
      ]
     },
     "execution_count": 199,
     "metadata": {},
     "output_type": "execute_result"
    }
   ],
   "source": [
    "df['Response'].value_counts()"
   ]
  },
  {
   "cell_type": "code",
   "execution_count": 200,
   "id": "9643eac1",
   "metadata": {},
   "outputs": [
    {
     "name": "stdout",
     "output_type": "stream",
     "text": [
      "The Accurancy Score: 0.8214426281126184\n",
      "The Precision Score 0.28444444444444444\n",
      "The Accurancy Score: 0.8209440843850857\n",
      "The Precision Score 0.2823053589484328\n"
     ]
    },
    {
     "data": {
      "text/plain": [
       "array([[29891,  3549],\n",
       "       [ 3275,  1396]], dtype=int64)"
      ]
     },
     "execution_count": 200,
     "metadata": {},
     "output_type": "execute_result"
    }
   ],
   "source": [
    "X = df1[['id', 'Gender', 'Age', 'Driving_License', 'Region_Code',\n",
    "       'Previously_Insured', 'Vehicle_Age', 'Vehicle_Damage', 'Annual_Premium',\n",
    "       'Policy_Sales_Channel', 'Vintage']]\n",
    "y = df['Response']\n",
    "from sklearn.model_selection import train_test_split\n",
    "X_train,X_test,y_train,y_test = train_test_split(X,y,train_size=0.9,random_state=365,stratify=y)\n",
    "from sklearn.tree import DecisionTreeClassifier\n",
    "from math import sqrt\n",
    "\n",
    "sqrt(df.shape[0])\n",
    "\n",
    "dectree = DecisionTreeClassifier()\n",
    "\n",
    "dectree.fit(X_train,y_train)\n",
    "pred4 = dectree.predict(X_test)\n",
    "pred4\n",
    "from sklearn.metrics import accuracy_score,precision_score,confusion_matrix,classification_report\n",
    "print(\"The Accurancy Score:\",accuracy_score(y_test,pred4))\n",
    "print(\"The Precision Score\",precision_score(y_test,pred4))\n",
    "confusion_matrix(y_test,pred4)\n",
    "# classification_report(y_test,pred4)\n",
    "from sklearn.model_selection import train_test_split\n",
    "X_train,X_test,y_train,y_test = train_test_split(X,y,train_size=0.9,random_state=365,stratify=y)\n",
    "from sklearn.tree import DecisionTreeClassifier\n",
    "from math import sqrt\n",
    "\n",
    "sqrt(df.shape[0])\n",
    "\n",
    "dectree = DecisionTreeClassifier()\n",
    "\n",
    "dectree.fit(X_train,y_train)\n",
    "pred4 = dectree.predict(X_test)\n",
    "pred4\n",
    "from sklearn.metrics import accuracy_score,precision_score,confusion_matrix,classification_report\n",
    "print(\"The Accurancy Score:\",accuracy_score(y_test,pred4))\n",
    "print(\"The Precision Score\",precision_score(y_test,pred4))\n",
    "confusion_matrix(y_test,pred4)\n",
    "# classification_report(y_test,pred4)"
   ]
  },
  {
   "cell_type": "code",
   "execution_count": 201,
   "id": "0b72d175",
   "metadata": {},
   "outputs": [
    {
     "name": "stdout",
     "output_type": "stream",
     "text": [
      "The Accurancy Score: 0.876571068720317\n",
      "The Precision Score 0.0\n"
     ]
    },
    {
     "name": "stderr",
     "output_type": "stream",
     "text": [
      "C:\\ProgramData\\anaconda3\\Lib\\site-packages\\sklearn\\metrics\\_classification.py:1469: UndefinedMetricWarning: Precision is ill-defined and being set to 0.0 due to no predicted samples. Use `zero_division` parameter to control this behavior.\n",
      "  _warn_prf(average, modifier, msg_start, len(result))\n"
     ]
    },
    {
     "data": {
      "text/plain": [
       "array([[33407,     0],\n",
       "       [ 4704,     0]], dtype=int64)"
      ]
     },
     "execution_count": 201,
     "metadata": {},
     "output_type": "execute_result"
    }
   ],
   "source": [
    "X = df1[['id', 'Gender', 'Age', 'Driving_License', 'Region_Code',\n",
    "       'Previously_Insured', 'Vehicle_Age', 'Vehicle_Damage', 'Annual_Premium',\n",
    "       'Policy_Sales_Channel', 'Vintage']]\n",
    "y = df['Response']\n",
    "from sklearn.model_selection import train_test_split\n",
    "X_train,X_test,y_train,y_test = train_test_split(X,y,train_size=0.9,random_state=1234)\n",
    "from sklearn.ensemble import RandomForestClassifier\n",
    "from math import sqrt\n",
    "\n",
    "sqrt(df.shape[0])\n",
    "\n",
    "RanForest = RandomForestClassifier(criterion=\"entropy\",max_depth=5)\n",
    "\n",
    "RanForest.fit(X_train,y_train)\n",
    "pred5 = RanForest.predict(X_test)\n",
    "pred5\n",
    "from sklearn.metrics import accuracy_score,precision_score,confusion_matrix,classification_report\n",
    "print(\"The Accurancy Score:\",accuracy_score(y_test,pred5))\n",
    "print(\"The Precision Score\",precision_score(y_test,pred5))\n",
    "confusion_matrix(y_test,pred5)\n",
    "# classification_report(y_test,pred4)"
   ]
  },
  {
   "cell_type": "code",
   "execution_count": 202,
   "id": "5a6fb78f",
   "metadata": {},
   "outputs": [
    {
     "name": "stdout",
     "output_type": "stream",
     "text": [
      "The Accurancy Score(knn): 0.8748261656739524\n",
      "The Precision Score(knn): 0.23529411764705882\n"
     ]
    }
   ],
   "source": [
    "X = df1[['id', 'Gender', 'Age', 'Driving_License', 'Region_Code',\n",
    "       'Previously_Insured', 'Vehicle_Age', 'Vehicle_Damage', 'Annual_Premium',\n",
    "       'Policy_Sales_Channel', 'Vintage']]\n",
    "y = df['Response']\n",
    "from sklearn.model_selection import train_test_split\n",
    "X_train,X_test,y_train,y_test = train_test_split(X,y,train_size=0.8,random_state=42)\n",
    "from sklearn.neighbors import KNeighborsClassifier\n",
    "from math import sqrt\n",
    "\n",
    "sqrt(df.shape[0])\n",
    "\n",
    "clf = KNeighborsClassifier(n_neighbors=13)\n",
    "\n",
    "clf.fit(X_train,y_train)\n",
    "pred2 = clf.predict(X_test)\n",
    "pred2\n",
    "from sklearn.metrics import accuracy_score\n",
    "print(\"The Accurancy Score(knn):\",accuracy_score(y_test,pred2))\n",
    "print(\"The Precision Score(knn):\",precision_score(y_test,pred2))"
   ]
  },
  {
   "cell_type": "code",
   "execution_count": 203,
   "id": "f5d3630e",
   "metadata": {},
   "outputs": [
    {
     "data": {
      "text/html": [
       "<div>\n",
       "<style scoped>\n",
       "    .dataframe tbody tr th:only-of-type {\n",
       "        vertical-align: middle;\n",
       "    }\n",
       "\n",
       "    .dataframe tbody tr th {\n",
       "        vertical-align: top;\n",
       "    }\n",
       "\n",
       "    .dataframe thead th {\n",
       "        text-align: right;\n",
       "    }\n",
       "</style>\n",
       "<table border=\"1\" class=\"dataframe\">\n",
       "  <thead>\n",
       "    <tr style=\"text-align: right;\">\n",
       "      <th></th>\n",
       "      <th>Actual</th>\n",
       "      <th>Predicted</th>\n",
       "      <th>date_diff</th>\n",
       "    </tr>\n",
       "  </thead>\n",
       "  <tbody>\n",
       "    <tr>\n",
       "      <th>200222</th>\n",
       "      <td>0</td>\n",
       "      <td>0</td>\n",
       "      <td>0</td>\n",
       "    </tr>\n",
       "    <tr>\n",
       "      <th>49766</th>\n",
       "      <td>0</td>\n",
       "      <td>0</td>\n",
       "      <td>0</td>\n",
       "    </tr>\n",
       "    <tr>\n",
       "      <th>172201</th>\n",
       "      <td>0</td>\n",
       "      <td>0</td>\n",
       "      <td>0</td>\n",
       "    </tr>\n",
       "    <tr>\n",
       "      <th>160713</th>\n",
       "      <td>0</td>\n",
       "      <td>0</td>\n",
       "      <td>0</td>\n",
       "    </tr>\n",
       "    <tr>\n",
       "      <th>53272</th>\n",
       "      <td>0</td>\n",
       "      <td>0</td>\n",
       "      <td>0</td>\n",
       "    </tr>\n",
       "    <tr>\n",
       "      <th>...</th>\n",
       "      <td>...</td>\n",
       "      <td>...</td>\n",
       "      <td>...</td>\n",
       "    </tr>\n",
       "    <tr>\n",
       "      <th>258403</th>\n",
       "      <td>0</td>\n",
       "      <td>0</td>\n",
       "      <td>0</td>\n",
       "    </tr>\n",
       "    <tr>\n",
       "      <th>234155</th>\n",
       "      <td>0</td>\n",
       "      <td>0</td>\n",
       "      <td>0</td>\n",
       "    </tr>\n",
       "    <tr>\n",
       "      <th>24476</th>\n",
       "      <td>0</td>\n",
       "      <td>0</td>\n",
       "      <td>0</td>\n",
       "    </tr>\n",
       "    <tr>\n",
       "      <th>60423</th>\n",
       "      <td>0</td>\n",
       "      <td>0</td>\n",
       "      <td>0</td>\n",
       "    </tr>\n",
       "    <tr>\n",
       "      <th>185839</th>\n",
       "      <td>0</td>\n",
       "      <td>0</td>\n",
       "      <td>0</td>\n",
       "    </tr>\n",
       "  </tbody>\n",
       "</table>\n",
       "<p>76222 rows × 3 columns</p>\n",
       "</div>"
      ],
      "text/plain": [
       "        Actual  Predicted  date_diff\n",
       "200222       0          0          0\n",
       "49766        0          0          0\n",
       "172201       0          0          0\n",
       "160713       0          0          0\n",
       "53272        0          0          0\n",
       "...        ...        ...        ...\n",
       "258403       0          0          0\n",
       "234155       0          0          0\n",
       "24476        0          0          0\n",
       "60423        0          0          0\n",
       "185839       0          0          0\n",
       "\n",
       "[76222 rows x 3 columns]"
      ]
     },
     "execution_count": 203,
     "metadata": {},
     "output_type": "execute_result"
    }
   ],
   "source": [
    "dd = pd.DataFrame({'Actual': y_test , 'Predicted' : pred2 , 'date_diff' : y_test - pred2})\n",
    "dd"
   ]
  },
  {
   "cell_type": "code",
   "execution_count": 206,
   "id": "282f1280",
   "metadata": {},
   "outputs": [
    {
     "data": {
      "text/plain": [
       "200222    0\n",
       "49766     0\n",
       "172201    0\n",
       "160713    0\n",
       "53272     0\n",
       "         ..\n",
       "258403    0\n",
       "234155    0\n",
       "24476     0\n",
       "60423     0\n",
       "185839    0\n",
       "Name: Response, Length: 76222, dtype: int64"
      ]
     },
     "execution_count": 206,
     "metadata": {},
     "output_type": "execute_result"
    }
   ],
   "source": []
  },
  {
   "cell_type": "code",
   "execution_count": 208,
   "id": "d8563f38",
   "metadata": {},
   "outputs": [
    {
     "data": {
      "text/plain": [
       "0.0    381109\n",
       "Name: Response, dtype: int64"
      ]
     },
     "execution_count": 208,
     "metadata": {},
     "output_type": "execute_result"
    }
   ],
   "source": [
    "df1['Response'].value_counts()"
   ]
  },
  {
   "cell_type": "code",
   "execution_count": null,
   "id": "1eb2ddca",
   "metadata": {},
   "outputs": [],
   "source": []
  }
 ],
 "metadata": {
  "kernelspec": {
   "display_name": "Python 3 (ipykernel)",
   "language": "python",
   "name": "python3"
  },
  "language_info": {
   "codemirror_mode": {
    "name": "ipython",
    "version": 3
   },
   "file_extension": ".py",
   "mimetype": "text/x-python",
   "name": "python",
   "nbconvert_exporter": "python",
   "pygments_lexer": "ipython3",
   "version": "3.11.4"
  }
 },
 "nbformat": 4,
 "nbformat_minor": 5
}
